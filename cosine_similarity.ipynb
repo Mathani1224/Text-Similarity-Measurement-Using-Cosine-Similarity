{
 "cells": [
  {
   "cell_type": "code",
   "execution_count": 1,
   "id": "32811fa0-f18b-4bb7-afd1-c3ba4bd6f9e9",
   "metadata": {},
   "outputs": [],
   "source": [
    "import numpy as np\n",
    "import pandas as pd\n",
    "from sklearn.metrics.pairwise import cosine_similarity\n",
    "from sklearn.neighbors import NearestNeighbors"
   ]
  },
  {
   "cell_type": "code",
   "execution_count": 3,
   "id": "ad29bd51-cc98-46db-a7d6-61aa7ccf9f38",
   "metadata": {},
   "outputs": [
    {
     "name": "stdout",
     "output_type": "stream",
     "text": [
      "User Item Interaction matrix:\n",
      "       Movie1  Movie2  Movie3  Movie4  Movie5\n",
      "User1       5       4       0       0       3\n",
      "User2       4       0       0       3       0\n",
      "User3       0       0       5       4       0\n",
      "User4       0       3       4       0       5\n"
     ]
    }
   ],
   "source": [
    "data={\n",
    "    \"Movie1\":[5,4,0,0],\n",
    "    \"Movie2\":[4,0,0,3],\n",
    "    \"Movie3\":[0,0,5,4],\n",
    "    \"Movie4\":[0,3,4,0],\n",
    "    \"Movie5\":[3,0,0,5]\n",
    "     }\n",
    "user_item_matrix=pd.DataFrame(data,index=[\"User1\",\"User2\",\"User3\",\"User4\"])\n",
    "\n",
    "print(\"User Item Interaction matrix:\")\n",
    "print(user_item_matrix)"
   ]
  },
  {
   "cell_type": "code",
   "execution_count": 5,
   "id": "74be6912-4642-4876-b539-5088ad751f2d",
   "metadata": {},
   "outputs": [
    {
     "name": "stdout",
     "output_type": "stream",
     "text": [
      "User similarity matrix:\n",
      "          User1     User2     User3     User4\n",
      "User1  1.000000  0.565685  0.000000  0.540000\n",
      "User2  0.565685  1.000000  0.374817  0.000000\n",
      "User3  0.000000  0.374817  1.000000  0.441726\n",
      "User4  0.540000  0.000000  0.441726  1.000000\n"
     ]
    }
   ],
   "source": [
    "similarity_matrix=cosine_similarity(user_item_matrix)\n",
    "similarity_df=pd.DataFrame(similarity_matrix,index=user_item_matrix.index,columns=user_item_matrix.index)\n",
    "\n",
    "print(\"User similarity matrix:\")\n",
    "print(similarity_df)"
   ]
  },
  {
   "cell_type": "code",
   "execution_count": 9,
   "id": "be729151-b23c-4cf0-ac79-289b65b60df2",
   "metadata": {},
   "outputs": [
    {
     "name": "stdout",
     "output_type": "stream",
     "text": [
      "Nearest neighbors for user1:\n",
      "[[0 1]]\n"
     ]
    }
   ],
   "source": [
    "from sklearn.neighbors import NearestNeighbors\n",
    "\n",
    "knn=NearestNeighbors(metric=\"cosine\")\n",
    "knn.fit(user_item_matrix)\n",
    "\n",
    "distances,indices=knn.kneighbors(user_item_matrix.iloc[0:1],n_neighbors=2)\n",
    "print(\"Nearest neighbors for user1:\")\n",
    "print(indices)"
   ]
  },
  {
   "cell_type": "code",
   "execution_count": 13,
   "id": "109f86aa-40d5-41f4-9f4e-fcf0d2c16ecb",
   "metadata": {},
   "outputs": [
    {
     "name": "stdout",
     "output_type": "stream",
     "text": [
      "Recommendations for user1:\n",
      "Movie3    1.953539\n",
      "Movie4    1.534845\n",
      "dtype: float64\n"
     ]
    }
   ],
   "source": [
    "def recommend_items(user, user_item_matrix, similarity_matrix,k=2):\n",
    "    \n",
    "    similar_users=similarity_matrix[user].sort_values(ascending=False)[1:k+1]\n",
    "    \n",
    "    weighted_ratings=np.dot(similar_users.values,user_item_matrix.loc[similar_users.index])\n",
    "    \n",
    "    weighted_ratings=weighted_ratings/similar_users.sum()\n",
    "    \n",
    "    unrated_items=user_item_matrix.loc[user]==0\n",
    "    \n",
    "    recommendations=pd.Series(weighted_ratings,index=user_item_matrix.columns)\n",
    "    \n",
    "    return recommendations[unrated_items].sort_values(ascending=False)\n",
    "\n",
    "recommendations = recommend_items(\"User1\",user_item_matrix,similarity_df,k=2)\n",
    "print(\"Recommendations for user1:\")\n",
    "print(recommendations)"
   ]
  }
 ],
 "metadata": {
  "kernelspec": {
   "display_name": "Python 3 (ipykernel)",
   "language": "python",
   "name": "python3"
  },
  "language_info": {
   "codemirror_mode": {
    "name": "ipython",
    "version": 3
   },
   "file_extension": ".py",
   "mimetype": "text/x-python",
   "name": "python",
   "nbconvert_exporter": "python",
   "pygments_lexer": "ipython3",
   "version": "3.12.7"
  }
 },
 "nbformat": 4,
 "nbformat_minor": 5
}
